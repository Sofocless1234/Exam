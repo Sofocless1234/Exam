{
  "metadata": {
    "kernelspec": {
      "display_name": "Python 3",
      "language": "python",
      "name": "python3"
    },
    "language_info": {
      "codemirror_mode": {
        "name": "ipython",
        "version": 3
      },
      "file_extension": ".py",
      "mimetype": "text/x-python",
      "name": "python",
      "nbconvert_exporter": "python",
      "pygments_lexer": "ipython3",
      "version": "3.7.6"
    },
    "colab": {
      "provenance": [],
      "include_colab_link": true
    }
  },
  "nbformat": 4,
  "nbformat_minor": 0,
  "cells": [
    {
      "cell_type": "markdown",
      "metadata": {
        "id": "view-in-github",
        "colab_type": "text"
      },
      "source": [
        "<a href=\"https://colab.research.google.com/github/Sofocless1234/Exam/blob/main/cm3_1_exam.ipynb\" target=\"_parent\"><img src=\"https://colab.research.google.com/assets/colab-badge.svg\" alt=\"Open In Colab\"/></a>"
      ]
    },
    {
      "cell_type": "markdown",
      "metadata": {
        "id": "GQxVdS00PUH6"
      },
      "source": [
        "# Exam 0: Basic Python, Functions, Lists, Strings, and Files"
      ]
    },
    {
      "cell_type": "markdown",
      "metadata": {
        "id": "NrzmeT7EcAZB"
      },
      "source": [
        "## EXERCISE 1: A Simple Calculator\n",
        "\n",
        "Here is a fun little calculator which exercises what you have learnt so far.\n",
        "\n",
        "It has only 4 operations - Addition, Subtraction, Multiplication and Divison\n",
        "\n",
        "Look up the documentation of the input function on google."
      ]
    },
    {
      "cell_type": "code",
      "execution_count": 3,
      "metadata": {
        "id": "TY2i_37RPUH8",
        "outputId": "9407b305-0fe7-4d4a-c71e-87c87cbb871a",
        "colab": {
          "base_uri": "https://localhost:8080/",
          "height": 109
        }
      },
      "outputs": [
        {
          "output_type": "error",
          "ename": "SyntaxError",
          "evalue": "incomplete input (<ipython-input-3-b15f8933c083>, line 15)",
          "traceback": [
            "\u001b[0;36m  File \u001b[0;32m\"<ipython-input-3-b15f8933c083>\"\u001b[0;36m, line \u001b[0;32m15\u001b[0m\n\u001b[0;31m    # your code here\u001b[0m\n\u001b[0m                    ^\u001b[0m\n\u001b[0;31mSyntaxError\u001b[0m\u001b[0;31m:\u001b[0m incomplete input\n"
          ]
        }
      ],
      "source": [
        "print(\"Select operation\\n\")\n",
        "print(\"1.Addition\")\n",
        "print(\"2.Subtraction\")\n",
        "print(\"3.Multiplication\")\n",
        "print(\"4.Division\")\n",
        "\n",
        "# Something NEW: Take input from the user\n",
        "choice = input(\"\\nEnter choice(1/2/3/4): \")\n",
        "\n",
        "# We convert the input to a floating-point(or real) number.\n",
        "\n",
        "num1 = float(input(\"\\nEnter first number: \"))\n",
        "num2 = float(input(\"\\nEnter second number: \"))\n",
        "if choice == '1':\n",
        "    # your code here"
      ]
    },
    {
      "cell_type": "markdown",
      "metadata": {
        "id": "GxJ6IoXJPUH8"
      },
      "source": [
        "## EXERCISE 2: Parsing a speech\n",
        "\n",
        "The text of  Martin Luther King Jr.'s great speech, \"I have a dream\" is included below. Count the number of times each word repeats. You will have to lowercase all letters using `lower` method on strings, remove punctuation, which can be defined as all the characters in the string; `string.punctuation`"
      ]
    },
    {
      "cell_type": "code",
      "source": [
        "speech = \"\"\"\n",
        "Five score years ago, a great American, in whose symbolic shadow we\n",
        "stand signed the Emancipation Proclamation.  This momentous decree\n",
        "came as a great beacon light of hope to millions of Negro slaves who\n",
        "had been seared in the flames of withering injustice.  It came as a\n",
        "joyous daybreak to end the long night of captivity.\n",
        "\n",
        "\tBut one hundred years later, we must face the tragic fact that\n",
        "the Negro is still not free.  One hundred years later, the life of the\n",
        "Negro is still sadly crippled by the manacles of segregation and the\n",
        "chains of discrimination.  One hundred years later, the Negro lives on\n",
        "a lonely island of poverty in the midst of a vast ocean of material\n",
        "prosperity.  One hundred years later, the Negro is still languishing\n",
        "in the corners of American society and finds himself an exile in his\n",
        "own land.  So we have come here today to dramatize an appalling\n",
        "condition.\n",
        "\n",
        "\tIn a sense we have come to our nation's capital to cash a\n",
        "check.  When the architects of our republic wrote the magnificent\n",
        "words of the Constitution and the declaration of Independence, they\n",
        "were signing a promissory note to which every American was to fall\n",
        "heir.  This note was a promise that all men would be guarranteed the\n",
        "inalienable rights of life, liberty, and the pursuit of happiness.\n",
        "\n",
        "\tIt is obvious today that America has defaulted on this\n",
        "promissory note insofar as her citizens of color are concerned.\n",
        "Instead of honoring this sacred obligation, America has given the\n",
        "Negro people a bad check which has come back marked \"insufficient\n",
        "funds.\" But we refuse to believe that the bank of justice is bankrupt.\n",
        "We refuse to believe that there are insufficient funds in the great\n",
        "vaults of opportunity of this nation.  So we have come to cash this\n",
        "check -- a check that will give us upon demand the riches of freedom\n",
        "and the security of justice.  We have also come to this hallowed spot\n",
        "to remind America of the fierce urgency of now.  This is no time to\n",
        "engage in the luxury of cooling off or to take the tranquilizing drug\n",
        "of gradualism.  Now is the time to rise from the dark and desolate\n",
        "valley of segregation to the sunlit path of racial justice.  Now is\n",
        "the time to open the doors of opportunity to all of God's children.\n",
        "Now is the time to lift our nation from the quicksands of racial\n",
        "injustice to the solid rock of brotherhood.\n",
        "\n",
        "\tIt would be fatal for the nation to overlook the urgency of\n",
        "the moment and to underestimate the determination of the Negro.  This\n",
        "sweltering summer of the Negro's legitimate discontent will not pass\n",
        "until there is an invigorating autumn of freedom and equality.\n",
        "Nineteen sixty-three is not an end, but a beginning.  Those who hope\n",
        "that the Negro needed to blow off steam and will now be content will\n",
        "have a rude awakening if the nation returns to business as usual.\n",
        "There will be neither rest nor tranquility in America until the Negro\n",
        "is granted his citizenship rights.  The whirlwinds of revolt will\n",
        "continue to shake the foundations of our nation until the bright day\n",
        "of justice emerges.\n",
        "\n",
        "\tBut there is something that I must say to my people who stand\n",
        "on the warm threshold which leads into the palace of justice.  In the\n",
        "process of gaining our rightful place we must not be guilty of\n",
        "wrongful deeds.  Let us not seek to satisfy our thirst for freedom by\n",
        "drinking from the cup of bitterness and hatred.\n",
        "\n",
        "\tWe must forever conduct our struggle on the high plane of\n",
        "dignity and discipline.  We must not allow our creative protest to\n",
        "degenerate into physical violence.  Again and again we must rise to\n",
        "the majestic heights of meeting physical force with soul force.  The\n",
        "marvelous new militancy which has engulfed the Negro community must\n",
        "not lead us to distrust of all white people, for many of our white\n",
        "brothers, as evidenced by their presence here today, have come to\n",
        "realize that their destiny is tied up with our destiny and their\n",
        "freedom is inextricably bound to our freedom.  We cannot walk alone.\n",
        "\n",
        "\tAnd as we walk, we must make the pledge that we shall march\n",
        "ahead.  We cannot turn back.  There are those who are asking the\n",
        "devotees of civil rights, \"When will you be satisfied?\"  We can never\n",
        "be satisfied as long as our bodies, heavy with the fatigue of travel,\n",
        "cannot gain lodging in the motels of the highways and the hotels of\n",
        "the cities.  We cannot be satisfied as long as the Negro's basic\n",
        "mobility is from a smaller ghetto to a larger one.  We can never be\n",
        "satisfied as long as a Negro in Mississippi cannot vote and a Negro in\n",
        "New York believes he has nothing for which to vote.  No, no, we are\n",
        "not satisfied, and we will not be satisfied until justice rolls down\n",
        "like waters and righteousness like a mighty stream.\n",
        "\n",
        "\tI am not unmindful that some of you have come here out of\n",
        "great trials and tribulations.  Some of you have come fresh from\n",
        "narrow cells.  Some of you have come from areas where your quest for\n",
        "freedom left you battered by the storms of persecution and staggered\n",
        "by the winds of police brutality.  You have been the veterans of\n",
        "creative suffering.  Continue to work with the faith that unearned\n",
        "suffering is redemptive.\n",
        "\n",
        "\tGo back to Mississippi, go back to Alabama, go back to\n",
        "Georgia, go back to Louisiana, go back to the slums and ghettos of our\n",
        "northern cities, knowing that somehow this situation can and will be\n",
        "changed.  Let us not wallow in the valley of despair.\n",
        "\n",
        "\tI say to you today, my friends, that in spite of the\n",
        "difficulties and frustrations of the moment, I still have a dream.  It\n",
        "is a dream deeply rooted in the American dream.\n",
        "\n",
        "\tI have a dream that one day this nation will rise up and live\n",
        "out the true meaning of its creed: \"We hold these truths to be\n",
        "self-evident: that all men are created equal.\"\n",
        "\n",
        "\tI have a dream that one day on the red hills of Georgia the\n",
        "sons of former slaves and the sons of former slaveowners will be able\n",
        "to sit down together at a table of brotherhood.\n",
        "\n",
        "\tI have a dream that one day even the state of Mississippi, a\n",
        "desert state, sweltering with the heat of injustice and oppression,\n",
        "will be transformed into an oasis of freedom and justice.\n",
        "\n",
        "\tI have a dream that my four children will one day live in a\n",
        "nation where they will not be judged by the color of their skin but by\n",
        "the content of their character.\n",
        "\n",
        "\tI have a dream today.\n",
        "\n",
        "\tI have a dream that one day the state of Alabama, whose\n",
        "governor's lips are presently dripping with the words of interposition\n",
        "and nullification, will be transformed into a situation where little\n",
        "black boys and black girls will be able to join hands with little\n",
        "white boys and white girls and walk together as sisters and brothers.\n",
        "\n",
        "\tI have a dream today.\n",
        "\n",
        "I have a dream that one day every valley shall be exalted, every hill\n",
        "and mountain shall be made low, the rough places will be made plain,\n",
        "and the crooked places will be made straight, and the glory of the\n",
        "Lord shall be revealed, and all flesh shall see it together.\n",
        "\n",
        "\tThis is our hope.  This is the faith with which I return to\n",
        "the South.  With this faith we will be able to hew out of the mountain\n",
        "of despair a stone of hope.  With this faith we will be able to\n",
        "transform the jangling discords of our nation into a beautiful\n",
        "symphony of brotherhood.  With this faith we will be able to work\n",
        "together, to pray together, to struggle together, to go to jail\n",
        "together, to stand up for freedom together, knowing that we will be\n",
        "free one day.\n",
        "\n",
        "\tThis will be the day when all of God's children will be able\n",
        "to sing with a new meaning, \"My country, 'tis of thee, sweet land of\n",
        "liberty, of thee I sing.  Land where my fathers died, land of the\n",
        "pilgrim's pride, from every mountainside, let freedom ring.\"\n",
        "\n",
        "\tAnd if America is to be a great nation this must become true.\n",
        "So let freedom ring from the prodigious hilltops of New Hampshire.\n",
        "Let freedom ring from the mighty mountains of New York.  Let freedom\n",
        "ring from the heightening Alleghenies of Pennsylvania!\n",
        "\n",
        "\tLet freedom ring from the snowcapped Rockies of Colorado!\n",
        "\n",
        "\tLet freedom ring from the curvaceous peaks of California!\n",
        "\n",
        "\tBut not only that; let freedom ring from Stone Mountain of\n",
        "Georgia!\n",
        "\n",
        "\tLet freedom ring from Lookout Mountain of Tennessee!\n",
        "\n",
        "\tLet freedom ring from every hill and every molehill of\n",
        "Mississippi.  From every mountainside, let freedom ring.\n",
        "\n",
        "\tWhen we let freedom ring, whem we let it ring from every\n",
        "village and every hamlet, from every state and every city, we will be\n",
        "able to speed up that day when all of God's children, black men and\n",
        "white men, Jews and Gentiles, Protestants and Catholics, will be able\n",
        "to join hands and sing in the words of the old Negro spiritual, \"Free\n",
        "at last! free at last! thank God Almighty, we are free at last!\"\n",
        "\"\"\""
      ],
      "metadata": {
        "id": "91p-0rE1QS1u"
      },
      "execution_count": null,
      "outputs": []
    },
    {
      "cell_type": "markdown",
      "source": [
        "Here is some code to help you along."
      ],
      "metadata": {
        "id": "9lxGGzjsUT31"
      }
    },
    {
      "cell_type": "code",
      "source": [],
      "metadata": {
        "id": "1ZiCQUmcYHut"
      },
      "execution_count": null,
      "outputs": []
    },
    {
      "cell_type": "code",
      "source": [
        "import string\n",
        "print(string.punctuation)\n",
        "print(\"AlphaBeta\".lower())"
      ],
      "metadata": {
        "colab": {
          "base_uri": "https://localhost:8080/"
        },
        "id": "Q5RWFuovUQjm",
        "outputId": "d9c3b789-5f3d-4448-db76-dcb844cfeb5a"
      },
      "execution_count": null,
      "outputs": [
        {
          "output_type": "stream",
          "name": "stdout",
          "text": [
            "!\"#$%&'()*+,-./:;<=>?@[\\]^_`{|}~\n",
            "alphabeta\n"
          ]
        }
      ]
    },
    {
      "cell_type": "markdown",
      "source": [
        "Removing punctuation"
      ],
      "metadata": {
        "id": "2y5Dqc_aXED8"
      }
    },
    {
      "cell_type": "code",
      "source": [
        "# from https://www.geeksforgeeks.org/python-remove-punctuation-from-string/\n",
        "test_str = 'Gfg, is best: for ! Geeks ;'\n",
        "\n",
        "test_str = test_str.translate(str.maketrans('', '', string.punctuation))\n",
        "# make_trans is a static method of the \"str\" type\n",
        "print(test_str)"
      ],
      "metadata": {
        "colab": {
          "base_uri": "https://localhost:8080/"
        },
        "id": "hnQ2KcUCXDYd",
        "outputId": "dcc5f17a-c797-4909-c7e6-3875f63c6653"
      },
      "execution_count": null,
      "outputs": [
        {
          "output_type": "stream",
          "name": "stdout",
          "text": [
            "Gfg is best for  Geeks \n"
          ]
        }
      ]
    },
    {
      "cell_type": "markdown",
      "source": [
        "You will need to split on the newline characters at the end of lines and then split on space."
      ],
      "metadata": {
        "id": "wv7OEg7iVoS9"
      }
    },
    {
      "cell_type": "code",
      "source": [
        "text = \"\"\"\n",
        "Hello this is:\n",
        "a second Line.\n",
        "And a third\n",
        "\"\"\"\n",
        "# punctuation not handled here\n",
        "text = text.translate(str.maketrans('', '', string.punctuation))\n",
        "print(text)\n",
        "words = []\n",
        "for line in text.split(\"\\n\"):\n",
        "  words = words + line.strip().split()\n",
        "words"
      ],
      "metadata": {
        "colab": {
          "base_uri": "https://localhost:8080/"
        },
        "id": "nC5SXnbaVnjV",
        "outputId": "54077425-1e40-4a95-eea2-769ae773b152"
      },
      "execution_count": null,
      "outputs": [
        {
          "output_type": "stream",
          "name": "stdout",
          "text": [
            "\n",
            "Hello this is\n",
            "a second Line\n",
            "And a third\n",
            "\n"
          ]
        },
        {
          "output_type": "execute_result",
          "data": {
            "text/plain": [
              "['Hello', 'this', 'is', 'a', 'second', 'Line', 'And', 'a', 'third']"
            ]
          },
          "metadata": {},
          "execution_count": 14
        }
      ]
    },
    {
      "cell_type": "markdown",
      "source": [
        "Do this by writing multiple functions that call each other. These will be `strip_punctuation(text)`, `make_words(text)`, and `count_occurrence(words)`. The final output should be a dictionary with keys the words, and values the number of times they happened in the speech. Which was MLK Jes most used word?"
      ],
      "metadata": {
        "id": "3rrlwfHEVX96"
      }
    },
    {
      "cell_type": "code",
      "source": [],
      "metadata": {
        "id": "l412RG5YVHqq"
      },
      "execution_count": null,
      "outputs": []
    }
  ]
}